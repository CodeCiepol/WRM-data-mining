{
 "cells": [
  {
   "cell_type": "code",
   "execution_count": 74,
   "metadata": {
    "collapsed": true,
    "ExecuteTime": {
     "end_time": "2023-10-29T11:50:29.583180100Z",
     "start_time": "2023-10-29T11:50:29.576174900Z"
    }
   },
   "outputs": [],
   "source": [
    "# imports\n",
    "import pandas as pd\n",
    "import datetime"
   ]
  },
  {
   "cell_type": "code",
   "execution_count": 54,
   "outputs": [],
   "source": [
    "#paths\n",
    "folder_path_weather = ''\n",
    "folder_path_rent_history = 'Historia przejazdów/'"
   ],
   "metadata": {
    "collapsed": false,
    "ExecuteTime": {
     "end_time": "2023-10-29T11:33:55.626312800Z",
     "start_time": "2023-10-29T11:33:55.620302Z"
    }
   }
  },
  {
   "cell_type": "code",
   "execution_count": 105,
   "outputs": [],
   "source": [
    "#DF weather more info\n",
    "columns_s_d = [\"Kod stacji\",\n",
    "               \"Nazwa stacji\",\n",
    "               \"Rok\",\n",
    "               \"Miesiąc\",\n",
    "               \"Dzień\",\n",
    "               \"Maksymalna temperatura dobowa [°C]\",\n",
    "               \"Status pomiaru TMAX\",\n",
    "               \"Minimalna temperatura dobowa [°C]\",\n",
    "               \"Status pomiaru TMIN\",\n",
    "               \"Średnia temperatura dobowa [°C]\",\n",
    "               \"Status pomiaru STD\",\n",
    "               \"Temperatura minimalna przy gruncie [°C]\",\n",
    "               \"Status pomiaru TMNG\",\n",
    "               \"Suma dobowa opadu [mm]\",\n",
    "               \"Status pomiaru SMDB\",\n",
    "               \"Rodzaj opadu [S/W/ ]\",\n",
    "               \"Wysokość pokrywy śnieżnej [cm]\",\n",
    "               \"Status pomiaru PKSN\",\n",
    "               \"Równoważnik wodny śniegu  [mm/cm]\",\n",
    "               \"Status pomiaru RWSN\",\n",
    "               \"Usłonecznienie [godziny]\",\n",
    "               \"Status pomiaru USL\",\n",
    "               \"Czas trwania opadu deszczu [godziny]\",\n",
    "               \"Status pomiaru DESZ\",\n",
    "               \"Czas trwania opadu śniegu [godziny]\",\n",
    "               \"Status pomiaru SNEG\",\n",
    "               \"Czas trwania opadu deszczu ze śniegiem [godziny]\",\n",
    "               \"Status pomiaru DISN\",\n",
    "               \"Czas trwania gradu [godziny]\",\n",
    "               \"Status pomiaru GRAD\",\n",
    "               \"Czas trwania mgły [godziny]\",\n",
    "               \"Status pomiaru MGLA\",\n",
    "               \"Czas trwania zamglenia  [godziny]\",\n",
    "               \"Status pomiaru ZMGL\",\n",
    "               \"Czas trwania sadzi [godziny]\",\n",
    "               \"Status pomiaru SADZ\",\n",
    "               \"Czas trwania gołoledzi [godziny]\",\n",
    "               \"Status pomiaru GOLO\",\n",
    "               \"Czas trwania zamieci śnieżnej niskiej [godziny]\",\n",
    "               \"Status pomiaru ZMNI\",\n",
    "               \"Czas trwania zamieci śnieżnej wysokiej [godziny]\",\n",
    "               \"Status pomiaru ZMWS\",\n",
    "               \"Czas trwania zmętnienia [godziny]\",\n",
    "               \"Status pomiaru ZMET\",\n",
    "               \"Czas trwania wiatru >=10m/s [godziny]\",\n",
    "               \"Status pomiaru FF10\",\n",
    "               \"Czas trwania wiatru >15m/s [godziny]\",\n",
    "               \"Status pomiaru FF15\",\n",
    "               \"Czas trwania burzy  [godziny]\",\n",
    "               \"Status pomiaru BRZA\",\n",
    "               \"Czas trwania rosy  [godziny]\",\n",
    "               \"Status pomiaru ROSA\",\n",
    "               \"Czas trwania szronu [godziny]\",\n",
    "               \"Status pomiaru SZRO\",\n",
    "               \"Wystąpienie pokrywy śnieżnej  [0/1]\",\n",
    "               \"Status pomiaru DZPS\",\n",
    "               \"Wystąpienie błyskawicy  [0/1]\",\n",
    "               \"Status pomiaru DZBL\",\n",
    "               \"Stan gruntu [Z/R]\",\n",
    "               \"Izoterma dolna  [cm]\",\n",
    "               \"Status pomiaru IZD\",\n",
    "               \"Izoterma górna [cm]\",\n",
    "               \"Status pomiaru IZG\",\n",
    "               \"Aktynometria  [J/cm2]\",\n",
    "               \"Status pomiaru AKTN\"]\n",
    "numbers_columns_s_d = [i for i in range(0, 65) if i not in (0, 1, 6, 8, 10, 12, 55, 57, 63)]\n",
    "weather_df_mi = pd.read_csv(folder_path_weather + 's_d_424_2021.csv', encoding=\"windows 1250\", names=columns_s_d,\n",
    "                            header=None,\n",
    "                            usecols=numbers_columns_s_d)"
   ],
   "metadata": {
    "collapsed": false,
    "ExecuteTime": {
     "end_time": "2023-10-29T12:28:47.507458200Z",
     "start_time": "2023-10-29T12:28:47.502064400Z"
    }
   }
  },
  {
   "cell_type": "code",
   "execution_count": 110,
   "outputs": [],
   "source": [
    "#DF weather simplified\n",
    "columns_s_d_t = [\"Kod stacji\",\n",
    "                 \"Nazwa stacji\", \"Rok\", \"Miesiąc\", \"Dzień\",\n",
    "                 \"Średnie dobowe zachmurzenie ogólne [oktanty]\",\n",
    "                 \"Status pomiaru NOS\",\n",
    "                 \"Średnia dobowa prędkość wiatru [m/s]\",\n",
    "                 \"Status pomiaru FWS\",\n",
    "                 \"Średnia dobowa temperatura [°C]\",\n",
    "                 \"Status pomiaru TEMP\",\n",
    "                 \"Średnia dobowe ciśnienie pary wodnej [hPa]\",\n",
    "                 \"Status pomiaru CPW\",\n",
    "                 \"Średnia dobowa wilgotność względna [%]\",\n",
    "                 \"Status pomiaru WLGS\",\n",
    "                 \"Średnia dobowe ciśnienie na poziomie stacji [hPa]\",\n",
    "                 \"Status pomiaru PPPS\",\n",
    "                 \"Średnie dobowe ciśnienie na pozimie morza [hPa]\",\n",
    "                 \"Status pomiaru PPPM\",\n",
    "                 \"Suma opadu dzień  [mm]\",\n",
    "                 \"Status pomiaru WODZ\",\n",
    "                 \"Suma opadu noc   [mm]\",\n",
    "                 \"Status pomiaru WONO\"]\n",
    "weather_df_simply = pd.read_csv('s_d_t_424_2021.csv', encoding=\"windows 1250\", names=columns_s_d_t, header=None,\n",
    "                                usecols=[2, 3, 4, 5, 7, 9, 11, 13, 15, 17, 19, 21])"
   ],
   "metadata": {
    "collapsed": false,
    "ExecuteTime": {
     "end_time": "2023-10-29T13:19:17.056128300Z",
     "start_time": "2023-10-29T13:19:17.049691800Z"
    }
   }
  },
  {
   "cell_type": "code",
   "execution_count": 98,
   "outputs": [],
   "source": [
    "#DF rent history\n",
    "file_nb = [str(i).zfill(2) for i in range(1, 13)]\n",
    "csv_files = [folder_path_rent_history + \"historia_przejazdow_2021-\" + nb + \".csv\" for nb in file_nb]\n",
    "rent_history_list_df = (\n",
    "    pd.read_csv(file, encoding=\"utf-8\", dtype={'Stacja wynajmu': 'string', 'Stacja zwrotu': 'string'},\n",
    "                parse_dates=['Data wynajmu', 'Data zwrotu']) for file in csv_files)\n",
    "rent_history_df_12months = pd.concat(rent_history_list_df, ignore_index=True)\n",
    "rent_history_df_12months.columns = [column.replace(\" \", \"_\") for column in rent_history_df_12months.columns]"
   ],
   "metadata": {
    "collapsed": false,
    "ExecuteTime": {
     "end_time": "2023-10-29T12:25:44.932902600Z",
     "start_time": "2023-10-29T12:25:40.550802700Z"
    }
   }
  },
  {
   "cell_type": "code",
   "execution_count": 99,
   "outputs": [
    {
     "data": {
      "text/plain": "UID_wynajmu                int64\nNumer_roweru               int64\nData_wynajmu      datetime64[ns]\nData_zwrotu       datetime64[ns]\nStacja_wynajmu    string[python]\nStacja_zwrotu     string[python]\nCzas_trwania               int64\ndtype: object"
     },
     "execution_count": 99,
     "metadata": {},
     "output_type": "execute_result"
    }
   ],
   "source": [
    "rent_history_df_12months.dtypes"
   ],
   "metadata": {
    "collapsed": false,
    "ExecuteTime": {
     "end_time": "2023-10-29T12:25:44.938433900Z",
     "start_time": "2023-10-29T12:25:44.935905600Z"
    }
   }
  },
  {
   "cell_type": "code",
   "execution_count": 194,
   "outputs": [
    {
     "data": {
      "text/plain": "       UID_wynajmu  Numer_roweru        Data_wynajmu         Data_zwrotu  \\\n54584    112291372        651275 2021-02-26 00:02:41 2021-02-26 00:03:11   \n54585    112291409        650402 2021-02-26 00:05:56 2021-02-26 00:07:56   \n54588    112291415         57415 2021-02-26 00:06:30 2021-02-26 00:09:52   \n54589    112291416         57323 2021-02-26 00:06:38 2021-02-26 00:10:03   \n54590    112291427         57973 2021-02-26 00:08:11 2021-02-26 00:10:10   \n...            ...           ...                 ...                 ...   \n56509    112325807        650428 2021-02-26 23:53:42 2021-02-27 00:36:01   \n56772    112311999        650869 2021-02-26 16:16:30 2021-02-27 10:09:26   \n57411    112325515         57380 2021-02-26 23:21:28 2021-02-27 15:03:20   \n61703    112292766        650845 2021-02-26 06:31:26 2021-02-26 07:05:00   \n62579    112325782        650146 2021-02-26 23:51:15 2021-03-01 13:16:13   \n\n                          Stacja_wynajmu  \\\n54584              Zaporoska / Gajowicka   \n54585              Racławicka / Rymarska   \n54588  Jedności Narodowej / Wyszyńskiego   \n54589  Jedności Narodowej / Wyszyńskiego   \n54590              Bałtycka / Żmigrodzka   \n...                                  ...   \n56509           Zaporoska / Grabiszyńska   \n56772              Racławicka / Rymarska   \n57411       Legnicka / Młodych Techników   \n61703                        Poza stacją   \n62579                         Wilanowska   \n\n                                  Stacja_zwrotu  Czas_trwania  \n54584                     Zaporoska / Gajowicka             1  \n54585                     Racławicka / Rymarska             2  \n54588                Żeromskiego / Daszyńskiego             4  \n54589                Żeromskiego / Daszyńskiego             4  \n54590                     Bałtycka / Żmigrodzka             2  \n...                                         ...           ...  \n56509                      Piaskowa / św. Ducha            43  \n56772                     Racławicka / Rymarska          1073  \n57411  Świdnicka / Piłsudskiego (Hotel Scandic)           942  \n61703                               Poza stacją            34  \n62579          al. Poprzeczna / stacja kolejowa          3685  \n\n[1894 rows x 7 columns]",
      "text/html": "<div>\n<style scoped>\n    .dataframe tbody tr th:only-of-type {\n        vertical-align: middle;\n    }\n\n    .dataframe tbody tr th {\n        vertical-align: top;\n    }\n\n    .dataframe thead th {\n        text-align: right;\n    }\n</style>\n<table border=\"1\" class=\"dataframe\">\n  <thead>\n    <tr style=\"text-align: right;\">\n      <th></th>\n      <th>UID_wynajmu</th>\n      <th>Numer_roweru</th>\n      <th>Data_wynajmu</th>\n      <th>Data_zwrotu</th>\n      <th>Stacja_wynajmu</th>\n      <th>Stacja_zwrotu</th>\n      <th>Czas_trwania</th>\n    </tr>\n  </thead>\n  <tbody>\n    <tr>\n      <th>54584</th>\n      <td>112291372</td>\n      <td>651275</td>\n      <td>2021-02-26 00:02:41</td>\n      <td>2021-02-26 00:03:11</td>\n      <td>Zaporoska / Gajowicka</td>\n      <td>Zaporoska / Gajowicka</td>\n      <td>1</td>\n    </tr>\n    <tr>\n      <th>54585</th>\n      <td>112291409</td>\n      <td>650402</td>\n      <td>2021-02-26 00:05:56</td>\n      <td>2021-02-26 00:07:56</td>\n      <td>Racławicka / Rymarska</td>\n      <td>Racławicka / Rymarska</td>\n      <td>2</td>\n    </tr>\n    <tr>\n      <th>54588</th>\n      <td>112291415</td>\n      <td>57415</td>\n      <td>2021-02-26 00:06:30</td>\n      <td>2021-02-26 00:09:52</td>\n      <td>Jedności Narodowej / Wyszyńskiego</td>\n      <td>Żeromskiego / Daszyńskiego</td>\n      <td>4</td>\n    </tr>\n    <tr>\n      <th>54589</th>\n      <td>112291416</td>\n      <td>57323</td>\n      <td>2021-02-26 00:06:38</td>\n      <td>2021-02-26 00:10:03</td>\n      <td>Jedności Narodowej / Wyszyńskiego</td>\n      <td>Żeromskiego / Daszyńskiego</td>\n      <td>4</td>\n    </tr>\n    <tr>\n      <th>54590</th>\n      <td>112291427</td>\n      <td>57973</td>\n      <td>2021-02-26 00:08:11</td>\n      <td>2021-02-26 00:10:10</td>\n      <td>Bałtycka / Żmigrodzka</td>\n      <td>Bałtycka / Żmigrodzka</td>\n      <td>2</td>\n    </tr>\n    <tr>\n      <th>...</th>\n      <td>...</td>\n      <td>...</td>\n      <td>...</td>\n      <td>...</td>\n      <td>...</td>\n      <td>...</td>\n      <td>...</td>\n    </tr>\n    <tr>\n      <th>56509</th>\n      <td>112325807</td>\n      <td>650428</td>\n      <td>2021-02-26 23:53:42</td>\n      <td>2021-02-27 00:36:01</td>\n      <td>Zaporoska / Grabiszyńska</td>\n      <td>Piaskowa / św. Ducha</td>\n      <td>43</td>\n    </tr>\n    <tr>\n      <th>56772</th>\n      <td>112311999</td>\n      <td>650869</td>\n      <td>2021-02-26 16:16:30</td>\n      <td>2021-02-27 10:09:26</td>\n      <td>Racławicka / Rymarska</td>\n      <td>Racławicka / Rymarska</td>\n      <td>1073</td>\n    </tr>\n    <tr>\n      <th>57411</th>\n      <td>112325515</td>\n      <td>57380</td>\n      <td>2021-02-26 23:21:28</td>\n      <td>2021-02-27 15:03:20</td>\n      <td>Legnicka / Młodych Techników</td>\n      <td>Świdnicka / Piłsudskiego (Hotel Scandic)</td>\n      <td>942</td>\n    </tr>\n    <tr>\n      <th>61703</th>\n      <td>112292766</td>\n      <td>650845</td>\n      <td>2021-02-26 06:31:26</td>\n      <td>2021-02-26 07:05:00</td>\n      <td>Poza stacją</td>\n      <td>Poza stacją</td>\n      <td>34</td>\n    </tr>\n    <tr>\n      <th>62579</th>\n      <td>112325782</td>\n      <td>650146</td>\n      <td>2021-02-26 23:51:15</td>\n      <td>2021-03-01 13:16:13</td>\n      <td>Wilanowska</td>\n      <td>al. Poprzeczna / stacja kolejowa</td>\n      <td>3685</td>\n    </tr>\n  </tbody>\n</table>\n<p>1894 rows × 7 columns</p>\n</div>"
     },
     "execution_count": 194,
     "metadata": {},
     "output_type": "execute_result"
    }
   ],
   "source": [
    "rent_history_df_12months.query(\"Data_wynajmu >= '2021-02-26' & Data_wynajmu < '2021-02-27'\")"
   ],
   "metadata": {
    "collapsed": false,
    "ExecuteTime": {
     "end_time": "2023-10-29T15:28:01.293174100Z",
     "start_time": "2023-10-29T15:28:01.269871700Z"
    }
   }
  },
  {
   "cell_type": "code",
   "execution_count": 195,
   "outputs": [
    {
     "data": {
      "text/plain": "         UID_wynajmu  Numer_roweru        Data_wynajmu         Data_zwrotu  \\\n1917053    133796077         57673 2021-11-21 00:00:33 2021-11-21 00:07:29   \n1917054    133796090        650435 2021-11-21 00:01:06 2021-11-21 00:14:03   \n1917055    133796094         57617 2021-11-21 00:01:12 2021-11-21 00:05:22   \n1917056    133796100        650211 2021-11-21 00:01:16 2021-11-21 00:12:18   \n1917057    133796144        651280 2021-11-21 00:02:44 2021-11-21 00:07:14   \n...              ...           ...                 ...                 ...   \n1920432    133838671        651318 2021-11-21 23:45:57 2021-11-21 23:50:20   \n1920433    133838675        651325 2021-11-21 23:46:15 2021-11-21 23:52:09   \n1920434    133838676         57754 2021-11-21 23:46:16 2021-11-22 12:03:57   \n1920435    133838710        650897 2021-11-21 23:48:23 2021-11-22 00:03:39   \n1920436    133838785        650761 2021-11-21 23:56:29 2021-11-22 00:15:12   \n\n                            Stacja_wynajmu  \\\n1917053           Czekoladowa / Wałbrzyska   \n1917054  Dyrekcyjna / Borowska (Wroclavia)   \n1917055                        Poza stacją   \n1917056              Zaporoska / Gajowicka   \n1917057               Piaskowa / św. Ducha   \n...                                    ...   \n1920432             Pilczycka / Kozanowska   \n1920433       Plac Strzegomski / Poznańska   \n1920434             Wita Stwosza / Szewska   \n1920435           Legnicka (Park Magnolia)   \n1920436               Wróblewskiego (Teki)   \n\n                                  Stacja_zwrotu  Czas_trwania  \n1917053                 Solskiego / al. Piastów             7  \n1917054                Powstańców Śląskich/Orla            13  \n1917055               Nowowiejska / Górnickiego             5  \n1917056  Plac Jana Pawła II (Akademia Muzyczna)            12  \n1917057              Poniatowskiego / Oleśnicka             5  \n...                                         ...           ...  \n1920432                       Lotnicza / Bajana             5  \n1920433            Legnicka / Młodych Techników             6  \n1920434               Nowowiejska / Górnickiego           738  \n1920435                      Kozanowska/Pałucka            16  \n1920436                 Kościuszki / Pułaskiego            19  \n\n[3384 rows x 7 columns]",
      "text/html": "<div>\n<style scoped>\n    .dataframe tbody tr th:only-of-type {\n        vertical-align: middle;\n    }\n\n    .dataframe tbody tr th {\n        vertical-align: top;\n    }\n\n    .dataframe thead th {\n        text-align: right;\n    }\n</style>\n<table border=\"1\" class=\"dataframe\">\n  <thead>\n    <tr style=\"text-align: right;\">\n      <th></th>\n      <th>UID_wynajmu</th>\n      <th>Numer_roweru</th>\n      <th>Data_wynajmu</th>\n      <th>Data_zwrotu</th>\n      <th>Stacja_wynajmu</th>\n      <th>Stacja_zwrotu</th>\n      <th>Czas_trwania</th>\n    </tr>\n  </thead>\n  <tbody>\n    <tr>\n      <th>1917053</th>\n      <td>133796077</td>\n      <td>57673</td>\n      <td>2021-11-21 00:00:33</td>\n      <td>2021-11-21 00:07:29</td>\n      <td>Czekoladowa / Wałbrzyska</td>\n      <td>Solskiego / al. Piastów</td>\n      <td>7</td>\n    </tr>\n    <tr>\n      <th>1917054</th>\n      <td>133796090</td>\n      <td>650435</td>\n      <td>2021-11-21 00:01:06</td>\n      <td>2021-11-21 00:14:03</td>\n      <td>Dyrekcyjna / Borowska (Wroclavia)</td>\n      <td>Powstańców Śląskich/Orla</td>\n      <td>13</td>\n    </tr>\n    <tr>\n      <th>1917055</th>\n      <td>133796094</td>\n      <td>57617</td>\n      <td>2021-11-21 00:01:12</td>\n      <td>2021-11-21 00:05:22</td>\n      <td>Poza stacją</td>\n      <td>Nowowiejska / Górnickiego</td>\n      <td>5</td>\n    </tr>\n    <tr>\n      <th>1917056</th>\n      <td>133796100</td>\n      <td>650211</td>\n      <td>2021-11-21 00:01:16</td>\n      <td>2021-11-21 00:12:18</td>\n      <td>Zaporoska / Gajowicka</td>\n      <td>Plac Jana Pawła II (Akademia Muzyczna)</td>\n      <td>12</td>\n    </tr>\n    <tr>\n      <th>1917057</th>\n      <td>133796144</td>\n      <td>651280</td>\n      <td>2021-11-21 00:02:44</td>\n      <td>2021-11-21 00:07:14</td>\n      <td>Piaskowa / św. Ducha</td>\n      <td>Poniatowskiego / Oleśnicka</td>\n      <td>5</td>\n    </tr>\n    <tr>\n      <th>...</th>\n      <td>...</td>\n      <td>...</td>\n      <td>...</td>\n      <td>...</td>\n      <td>...</td>\n      <td>...</td>\n      <td>...</td>\n    </tr>\n    <tr>\n      <th>1920432</th>\n      <td>133838671</td>\n      <td>651318</td>\n      <td>2021-11-21 23:45:57</td>\n      <td>2021-11-21 23:50:20</td>\n      <td>Pilczycka / Kozanowska</td>\n      <td>Lotnicza / Bajana</td>\n      <td>5</td>\n    </tr>\n    <tr>\n      <th>1920433</th>\n      <td>133838675</td>\n      <td>651325</td>\n      <td>2021-11-21 23:46:15</td>\n      <td>2021-11-21 23:52:09</td>\n      <td>Plac Strzegomski / Poznańska</td>\n      <td>Legnicka / Młodych Techników</td>\n      <td>6</td>\n    </tr>\n    <tr>\n      <th>1920434</th>\n      <td>133838676</td>\n      <td>57754</td>\n      <td>2021-11-21 23:46:16</td>\n      <td>2021-11-22 12:03:57</td>\n      <td>Wita Stwosza / Szewska</td>\n      <td>Nowowiejska / Górnickiego</td>\n      <td>738</td>\n    </tr>\n    <tr>\n      <th>1920435</th>\n      <td>133838710</td>\n      <td>650897</td>\n      <td>2021-11-21 23:48:23</td>\n      <td>2021-11-22 00:03:39</td>\n      <td>Legnicka (Park Magnolia)</td>\n      <td>Kozanowska/Pałucka</td>\n      <td>16</td>\n    </tr>\n    <tr>\n      <th>1920436</th>\n      <td>133838785</td>\n      <td>650761</td>\n      <td>2021-11-21 23:56:29</td>\n      <td>2021-11-22 00:15:12</td>\n      <td>Wróblewskiego (Teki)</td>\n      <td>Kościuszki / Pułaskiego</td>\n      <td>19</td>\n    </tr>\n  </tbody>\n</table>\n<p>3384 rows × 7 columns</p>\n</div>"
     },
     "execution_count": 195,
     "metadata": {},
     "output_type": "execute_result"
    }
   ],
   "source": [
    "rent_history_df_12months[(rent_history_df_12months['Data_wynajmu'] >= pd.to_datetime('2021-11-21')) & (\n",
    "                          rent_history_df_12months['Data_wynajmu'] < pd.to_datetime('2021-11-22'))]\n"
   ],
   "metadata": {
    "collapsed": false,
    "ExecuteTime": {
     "end_time": "2023-10-29T15:29:57.152066300Z",
     "start_time": "2023-10-29T15:29:57.135624100Z"
    }
   }
  },
  {
   "cell_type": "code",
   "execution_count": 143,
   "outputs": [
    {
     "ename": "AttributeError",
     "evalue": "'Series' object has no attribute 'date'",
     "output_type": "error",
     "traceback": [
      "\u001B[1;31m---------------------------------------------------------------------------\u001B[0m",
      "\u001B[1;31mAttributeError\u001B[0m                            Traceback (most recent call last)",
      "\u001B[1;32m~\\AppData\\Local\\Temp\\ipykernel_17704\\821455928.py\u001B[0m in \u001B[0;36m?\u001B[1;34m()\u001B[0m\n\u001B[1;32m----> 1\u001B[1;33m \u001B[0mrent_history_df_12months\u001B[0m\u001B[1;33m[\u001B[0m\u001B[0mrent_history_df_12months\u001B[0m\u001B[1;33m[\u001B[0m\u001B[1;34m'Data_wynajmu'\u001B[0m\u001B[1;33m]\u001B[0m\u001B[1;33m.\u001B[0m\u001B[0mdate\u001B[0m\u001B[1;33m(\u001B[0m\u001B[1;33m)\u001B[0m \u001B[1;33m==\u001B[0m \u001B[0mdatetime\u001B[0m\u001B[1;33m.\u001B[0m\u001B[0mdate\u001B[0m\u001B[1;33m(\u001B[0m\u001B[1;36m2020\u001B[0m\u001B[1;33m,\u001B[0m \u001B[1;36m12\u001B[0m\u001B[1;33m,\u001B[0m \u001B[1;36m23\u001B[0m\u001B[1;33m)\u001B[0m\u001B[1;33m]\u001B[0m\u001B[1;33m\u001B[0m\u001B[1;33m\u001B[0m\u001B[0m\n\u001B[0m",
      "\u001B[1;32m~\\.conda\\envs\\pwrOG\\Lib\\site-packages\\pandas\\core\\generic.py\u001B[0m in \u001B[0;36m?\u001B[1;34m(self, name)\u001B[0m\n\u001B[0;32m   6200\u001B[0m             \u001B[1;32mand\u001B[0m \u001B[0mname\u001B[0m \u001B[1;32mnot\u001B[0m \u001B[1;32min\u001B[0m \u001B[0mself\u001B[0m\u001B[1;33m.\u001B[0m\u001B[0m_accessors\u001B[0m\u001B[1;33m\u001B[0m\u001B[1;33m\u001B[0m\u001B[0m\n\u001B[0;32m   6201\u001B[0m             \u001B[1;32mand\u001B[0m \u001B[0mself\u001B[0m\u001B[1;33m.\u001B[0m\u001B[0m_info_axis\u001B[0m\u001B[1;33m.\u001B[0m\u001B[0m_can_hold_identifiers_and_holds_name\u001B[0m\u001B[1;33m(\u001B[0m\u001B[0mname\u001B[0m\u001B[1;33m)\u001B[0m\u001B[1;33m\u001B[0m\u001B[1;33m\u001B[0m\u001B[0m\n\u001B[0;32m   6202\u001B[0m         ):\n\u001B[0;32m   6203\u001B[0m             \u001B[1;32mreturn\u001B[0m \u001B[0mself\u001B[0m\u001B[1;33m[\u001B[0m\u001B[0mname\u001B[0m\u001B[1;33m]\u001B[0m\u001B[1;33m\u001B[0m\u001B[1;33m\u001B[0m\u001B[0m\n\u001B[1;32m-> 6204\u001B[1;33m         \u001B[1;32mreturn\u001B[0m \u001B[0mobject\u001B[0m\u001B[1;33m.\u001B[0m\u001B[0m__getattribute__\u001B[0m\u001B[1;33m(\u001B[0m\u001B[0mself\u001B[0m\u001B[1;33m,\u001B[0m \u001B[0mname\u001B[0m\u001B[1;33m)\u001B[0m\u001B[1;33m\u001B[0m\u001B[1;33m\u001B[0m\u001B[0m\n\u001B[0m",
      "\u001B[1;31mAttributeError\u001B[0m: 'Series' object has no attribute 'date'"
     ]
    }
   ],
   "source": [
    "rent_history_df_12months[rent_history_df_12months['Data_wynajmu'].date() == datetime.date(2020, 12, 23)]"
   ],
   "metadata": {
    "collapsed": false,
    "ExecuteTime": {
     "end_time": "2023-10-29T14:21:32.509044900Z",
     "start_time": "2023-10-29T14:21:32.498520200Z"
    }
   }
  }
 ],
 "metadata": {
  "kernelspec": {
   "display_name": "Python 3",
   "language": "python",
   "name": "python3"
  },
  "language_info": {
   "codemirror_mode": {
    "name": "ipython",
    "version": 2
   },
   "file_extension": ".py",
   "mimetype": "text/x-python",
   "name": "python",
   "nbconvert_exporter": "python",
   "pygments_lexer": "ipython2",
   "version": "2.7.6"
  }
 },
 "nbformat": 4,
 "nbformat_minor": 0
}
